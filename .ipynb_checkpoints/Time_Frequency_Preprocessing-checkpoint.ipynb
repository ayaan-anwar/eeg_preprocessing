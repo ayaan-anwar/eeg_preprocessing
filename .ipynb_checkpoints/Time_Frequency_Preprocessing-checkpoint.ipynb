{
 "cells": [
  {
   "cell_type": "code",
   "execution_count": 12,
   "metadata": {},
   "outputs": [],
   "source": [
    "import pandas as pd\n",
    "import numpy as np\n",
    "from PyEMD import EMD\n",
    "import os\n",
    "from tqdm.notebook import tqdm\n",
    "from sklearn.decomposition import FastICA\n",
    "from scipy.signal import butter, lfilter, freqz, hilbert"
   ]
  },
  {
   "cell_type": "markdown",
   "metadata": {},
   "source": [
    "# Set Path"
   ]
  },
  {
   "cell_type": "code",
   "execution_count": 13,
   "metadata": {},
   "outputs": [],
   "source": [
    "data_path = os.path.join('..', 'Data', 'EEG')\n",
    "\n",
    "# Log file\n",
    "log_path = os.path.join('..', 'Data', 'Log.xlsx')\n",
    "df_log = pd.read_excel(log_path, index_col='Subject')"
   ]
  },
  {
   "cell_type": "markdown",
   "metadata": {},
   "source": [
    "**[Ignore] Path Check**"
   ]
  },
  {
   "cell_type": "code",
   "execution_count": 15,
   "metadata": {
    "collapsed": true
   },
   "outputs": [
    {
     "data": {
      "text/plain": [
       "['23.csv',\n",
       " '7.csv',\n",
       " '16.csv',\n",
       " '21.csv',\n",
       " '14.csv',\n",
       " '15.csv',\n",
       " '9.csv',\n",
       " '5.csv',\n",
       " '12.csv',\n",
       " '3.csv',\n",
       " '10.csv',\n",
       " '22.csv',\n",
       " '6.csv',\n",
       " '4.csv',\n",
       " '8.csv',\n",
       " '2.csv',\n",
       " '1.csv',\n",
       " '13.csv',\n",
       " '17.csv',\n",
       " '20.csv',\n",
       " '11.csv',\n",
       " '18.csv',\n",
       " '19.csv']"
      ]
     },
     "execution_count": 15,
     "metadata": {},
     "output_type": "execute_result"
    }
   ],
   "source": [
    "os.listdir(data_path)"
   ]
  },
  {
   "cell_type": "code",
   "execution_count": 16,
   "metadata": {
    "collapsed": true
   },
   "outputs": [
    {
     "data": {
      "text/html": [
       "<div>\n",
       "<style scoped>\n",
       "    .dataframe tbody tr th:only-of-type {\n",
       "        vertical-align: middle;\n",
       "    }\n",
       "\n",
       "    .dataframe tbody tr th {\n",
       "        vertical-align: top;\n",
       "    }\n",
       "\n",
       "    .dataframe thead th {\n",
       "        text-align: right;\n",
       "    }\n",
       "</style>\n",
       "<table border=\"1\" class=\"dataframe\">\n",
       "  <thead>\n",
       "    <tr style=\"text-align: right;\">\n",
       "      <th></th>\n",
       "      <th>Date</th>\n",
       "      <th>TestStartTime(IST)</th>\n",
       "      <th>EEGStartTime(IST)</th>\n",
       "      <th>EEGDuration</th>\n",
       "      <th>WatchStartTime(IST)</th>\n",
       "      <th>WatchDuration</th>\n",
       "      <th>Form</th>\n",
       "      <th>Remarks</th>\n",
       "    </tr>\n",
       "    <tr>\n",
       "      <th>Subject</th>\n",
       "      <th></th>\n",
       "      <th></th>\n",
       "      <th></th>\n",
       "      <th></th>\n",
       "      <th></th>\n",
       "      <th></th>\n",
       "      <th></th>\n",
       "      <th></th>\n",
       "    </tr>\n",
       "  </thead>\n",
       "  <tbody>\n",
       "    <tr>\n",
       "      <th>1</th>\n",
       "      <td>2020-02-20</td>\n",
       "      <td>15:09:00</td>\n",
       "      <td>15:07:10</td>\n",
       "      <td>48m 32s</td>\n",
       "      <td>NaN</td>\n",
       "      <td>NaN</td>\n",
       "      <td>NaN</td>\n",
       "      <td>EDA, HR, SKT data not available</td>\n",
       "    </tr>\n",
       "    <tr>\n",
       "      <th>2</th>\n",
       "      <td>2020-02-21</td>\n",
       "      <td>14:58:42</td>\n",
       "      <td>14:59:35</td>\n",
       "      <td>46m 23s</td>\n",
       "      <td>14:58:46</td>\n",
       "      <td>48m 3s</td>\n",
       "      <td>NaN</td>\n",
       "      <td>NaN</td>\n",
       "    </tr>\n",
       "    <tr>\n",
       "      <th>3</th>\n",
       "      <td>2020-02-24</td>\n",
       "      <td>11:02:52</td>\n",
       "      <td>11:03:42</td>\n",
       "      <td>49m 12s</td>\n",
       "      <td>11:02:53</td>\n",
       "      <td>50m 12s</td>\n",
       "      <td>NaN</td>\n",
       "      <td>NaN</td>\n",
       "    </tr>\n",
       "    <tr>\n",
       "      <th>4</th>\n",
       "      <td>2020-12-22</td>\n",
       "      <td>11:32:10</td>\n",
       "      <td>11:30:04</td>\n",
       "      <td>48m 40s</td>\n",
       "      <td>11:30:55</td>\n",
       "      <td>48m 24s</td>\n",
       "      <td>Available</td>\n",
       "      <td>NaN</td>\n",
       "    </tr>\n",
       "    <tr>\n",
       "      <th>5</th>\n",
       "      <td>2020-02-24</td>\n",
       "      <td>16:54:47</td>\n",
       "      <td>16:56:58</td>\n",
       "      <td>49m 01s</td>\n",
       "      <td>NaN</td>\n",
       "      <td>NaN</td>\n",
       "      <td>NaN</td>\n",
       "      <td>EDA, HR, SKT data not available</td>\n",
       "    </tr>\n",
       "  </tbody>\n",
       "</table>\n",
       "</div>"
      ],
      "text/plain": [
       "              Date TestStartTime(IST) EEGStartTime(IST) EEGDuration  \\\n",
       "Subject                                                               \n",
       "1       2020-02-20           15:09:00          15:07:10     48m 32s   \n",
       "2       2020-02-21           14:58:42          14:59:35     46m 23s   \n",
       "3       2020-02-24           11:02:52          11:03:42     49m 12s   \n",
       "4       2020-12-22           11:32:10          11:30:04     48m 40s   \n",
       "5       2020-02-24           16:54:47          16:56:58     49m 01s   \n",
       "\n",
       "        WatchStartTime(IST) WatchDuration       Form  \\\n",
       "Subject                                                \n",
       "1                       NaN           NaN        NaN   \n",
       "2                  14:58:46        48m 3s        NaN   \n",
       "3                  11:02:53       50m 12s        NaN   \n",
       "4                  11:30:55       48m 24s  Available   \n",
       "5                       NaN           NaN        NaN   \n",
       "\n",
       "                                 Remarks  \n",
       "Subject                                   \n",
       "1        EDA, HR, SKT data not available  \n",
       "2                                    NaN  \n",
       "3                                    NaN  \n",
       "4                                    NaN  \n",
       "5        EDA, HR, SKT data not available  "
      ]
     },
     "execution_count": 16,
     "metadata": {},
     "output_type": "execute_result"
    }
   ],
   "source": [
    "df_log.head()"
   ]
  },
  {
   "cell_type": "markdown",
   "metadata": {},
   "source": [
    "# Preprocessing Functions"
   ]
  },
  {
   "cell_type": "code",
   "execution_count": null,
   "metadata": {},
   "outputs": [],
   "source": []
  },
  {
   "cell_type": "code",
   "execution_count": null,
   "metadata": {},
   "outputs": [],
   "source": []
  },
  {
   "cell_type": "code",
   "execution_count": null,
   "metadata": {},
   "outputs": [],
   "source": []
  },
  {
   "cell_type": "code",
   "execution_count": null,
   "metadata": {},
   "outputs": [],
   "source": []
  }
 ],
 "metadata": {
  "kernelspec": {
   "display_name": "Python 3",
   "language": "python",
   "name": "python3"
  },
  "language_info": {
   "codemirror_mode": {
    "name": "ipython",
    "version": 3
   },
   "file_extension": ".py",
   "mimetype": "text/x-python",
   "name": "python",
   "nbconvert_exporter": "python",
   "pygments_lexer": "ipython3",
   "version": "3.7.6"
  }
 },
 "nbformat": 4,
 "nbformat_minor": 4
}
